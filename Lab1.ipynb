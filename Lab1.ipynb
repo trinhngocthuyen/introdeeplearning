{
 "cells": [
  {
   "cell_type": "code",
   "execution_count": 1,
   "metadata": {
    "collapsed": false,
    "deletable": true,
    "editable": true
   },
   "outputs": [],
   "source": [
    "import pickle as p\n",
    "import numpy as np\n",
    "import tensorflow as tf\n",
    "import random\n",
    "import lab1_utils as utils\n",
    "import tensorflow as tf\n",
    "import numpy as np\n",
    "import matplotlib.pyplot as plt\n",
    "\n",
    "%matplotlib inline"
   ]
  },
  {
   "cell_type": "markdown",
   "metadata": {
    "deletable": true,
    "editable": true
   },
   "source": [
    "# Intro to TensorFlow\n",
    "\n",
    "## What is a Computation Graph?\n",
    "\n",
    "Everything in TensorFlow comes down to building a computation graph. What is a computation graph? Its just a series of math operations that occur in some order. Here is an example of a simple computation graph:\n",
    "\n",
    "<img src=\"files/computation-graph.png\">\n",
    "\n",
    "This graph takes 2 inputs, (a, b) and computes an output (e). Each node in the graph is an operation that takes some input, does some computation, and passes its output to another node.\n",
    "\n",
    "We could make this computation graph in TensorFlow in the following way:"
   ]
  },
  {
   "cell_type": "code",
   "execution_count": 2,
   "metadata": {
    "collapsed": false,
    "deletable": true,
    "editable": true
   },
   "outputs": [],
   "source": [
    "a = tf.placeholder(tf.float32)\n",
    "b = tf.placeholder(tf.float32)\n",
    "c = tf.add(a, b)\n",
    "d = tf.subtract(b, 1)\n",
    "e = tf.multiply(c, d)"
   ]
  },
  {
   "cell_type": "markdown",
   "metadata": {
    "deletable": true,
    "editable": true
   },
   "source": [
    "Tensorflow uses tf.placeholder to handle inputs to the model. This is like making a reservation at a restaurant. The restaurant reserves a spot for 5 people, but you are free to fill those seats with any set of friends you want to. tf.placeholder lets you specify that some input will be coming in, of some shape and some type. Only when you run the computation graph do you actually provide the values of this input data. You would run this simple computation graph like this:"
   ]
  },
  {
   "cell_type": "code",
   "execution_count": 3,
   "metadata": {
    "collapsed": false,
    "deletable": true,
    "editable": true
   },
   "outputs": [
    {
     "name": "stdout",
     "output_type": "stream",
     "text": [
      "[45.0]\n"
     ]
    }
   ],
   "source": [
    "with tf.Session() as session:\n",
    "    a_data, b_data = 3.0, 6.0\n",
    "    feed_dict = {a: a_data, b: b_data}\n",
    "    output = session.run([e], feed_dict=feed_dict)\n",
    "    print(output) # 45.0"
   ]
  },
  {
   "cell_type": "markdown",
   "metadata": {
    "deletable": true,
    "editable": true
   },
   "source": [
    "We use feed_dict to pass in the actual input data into the graph. We use session.run to get the output from the c operation in the graph. Since e is at the end of the graph, this ends up running the entire graph and returning the number 45 - cool!"
   ]
  },
  {
   "cell_type": "markdown",
   "metadata": {
    "collapsed": true,
    "deletable": true,
    "editable": true
   },
   "source": [
    "## Neural Networks in Tensorflow\n",
    "\n",
    "We can define neural networks in TensorFlow using computation graphs. Here is an example, very simple neural network (just 1 perceptron):\n",
    "\n",
    "<img src=\"files/computation-graph-2.png\">\n",
    "\n",
    "This graph takes an input, (x) and computes an output (out). It does it with what we learned in class, `out = sigmoid(W*x+b)`.\n",
    "\n",
    "We could make this computation graph in TensorFlow in the following way:"
   ]
  },
  {
   "cell_type": "code",
   "execution_count": 4,
   "metadata": {
    "collapsed": false,
    "deletable": true,
    "editable": true
   },
   "outputs": [],
   "source": [
    "n_input_nodes = 2\n",
    "n_output_nodes = 1\n",
    "x = tf.placeholder(tf.float32, (None, n_input_nodes))\n",
    "W = tf.Variable(tf.ones((n_input_nodes, n_output_nodes)), dtype=tf.float32)\n",
    "b = tf.Variable(tf.zeros(n_output_nodes), dtype=tf.float32)\n",
    "\n",
    "'''tnthuyen: Define the operation for z (use tf.matmul to multiply W and x).'''\n",
    "z = tf.add(tf.matmul(x, W), b)\n",
    "\n",
    "'''tnthuyen: Define the operation for out (use tf.sigmoid).'''\n",
    "out = tf.sigmoid(z)"
   ]
  },
  {
   "cell_type": "markdown",
   "metadata": {
    "deletable": true,
    "editable": true
   },
   "source": [
    "To run this graph, we again use session.run() and feed in our input via feed_dict."
   ]
  },
  {
   "cell_type": "code",
   "execution_count": 5,
   "metadata": {
    "collapsed": false,
    "deletable": true,
    "editable": true
   },
   "outputs": [
    {
     "name": "stdout",
     "output_type": "stream",
     "text": [
      "[[ 0.7310586]]\n"
     ]
    }
   ],
   "source": [
    "test_input = [[0.5, 0.5]]\n",
    "with tf.Session() as session:\n",
    "    tf.global_variables_initializer().run(session=session)\n",
    "    feed_dict = {x: test_input}\n",
    "    output = session.run([out], feed_dict=feed_dict)\n",
    "    print(output[0]) # This should output 0.73105. If not, double-check your code above"
   ]
  },
  {
   "cell_type": "markdown",
   "metadata": {
    "deletable": true,
    "editable": true
   },
   "source": [
    "We can also set the value of a tf.Variable when we make it. Below is an example where we set the value of tf.Variable ourselves. We've made a classification dataset for you to play around with, and see how the decision boundary changes with the model parameters (weights and bias). Try to get all the datapoints correct (green)!"
   ]
  },
  {
   "cell_type": "code",
   "execution_count": 6,
   "metadata": {
    "collapsed": false,
    "deletable": true,
    "editable": true
   },
   "outputs": [
    {
     "data": {
      "image/png": "[encoded data removed]",
      "text/plain": [
       "<matplotlib.figure.Figure at 0x10c446080>"
      ]
     },
     "metadata": {},
     "output_type": "display_data"
    },
    {
     "data": {
      "image/png": "[encoded data removed]",
      "text/plain": [
       "<matplotlib.figure.Figure at 0x11674bb70>"
      ]
     },
     "metadata": {},
     "output_type": "display_data"
    },
    {
     "name": "stdout",
     "output_type": "stream",
     "text": [
      "predictions [array([[ 0.40131235]], dtype=float32), array([[ 0.42555749]], dtype=float32), array([[ 0.6681878]], dtype=float32), array([[ 0.57444251]], dtype=float32), array([[ 0.54983401]], dtype=float32), array([[ 0.40131235]], dtype=float32), array([[ 0.40131235]], dtype=float32), array([[ 0.28905052]], dtype=float32), array([[ 0.37754068]], dtype=float32), array([[ 0.54983401]], dtype=float32), array([[ 0.64565629]], dtype=float32)]\n"
     ]
    }
   ],
   "source": [
    "'''tnthuyen: manually optimize weight_values and bias_value to classify points'''\n",
    "\n",
    "# Modify weight_values, bias_value in the above code to adjust the decision boundary\n",
    "# See if you can classify all the points correctly (all markers green)\n",
    "\n",
    "weight_values = np.array([[-0.1], [-0.2]])\n",
    "bias_value = np.array([[1.2]])\n",
    "\n",
    "# A pretty good boundary is made with:\n",
    "# weight_values = np.array([[0.03], [0.12]])\n",
    "# bias_value = np.array([[-0.5]])\n",
    "\n",
    "x = tf.placeholder(tf.float32, (None, 2), name='x')\n",
    "W = tf.Variable(weight_values, name='W', dtype=tf.float32)\n",
    "b = tf.Variable(bias_value, name='b', dtype=tf.float32)\n",
    "z = tf.matmul(x, W) + b\n",
    "out = tf.sigmoid(z)\n",
    "\n",
    "data = np.array([[2, 7], [1, 7], [3, 1], [3, 3], [4, 3], [4, 6], [6, 5], [7, 7], [7, 5], [2, 4], [2, 2]])\n",
    "y = np.array([1, 1, 0, 0, 0, 1, 1, 1, 1, 0, 0])\n",
    "with tf.Session() as session:\n",
    "    tf.global_variables_initializer().run(session=session)\n",
    "    utils.classify_and_plot(data, y, x, out, session)"
   ]
  },
  {
   "cell_type": "markdown",
   "metadata": {
    "deletable": true,
    "editable": true
   },
   "source": [
    "## Tweet Sentiment Analysis"
   ]
  },
  {
   "cell_type": "markdown",
   "metadata": {
    "deletable": true,
    "editable": true
   },
   "source": [
    "Let's move to a real-world task. We're going to be classifying tweets as positive, negative, or neutral. Check out the very negative tweet below:"
   ]
  },
  {
   "cell_type": "markdown",
   "metadata": {
    "deletable": true,
    "editable": true
   },
   "source": [
    "<img src=\"files/tweet-model.jpg\" style=\"width: 500px;\">\n"
   ]
  },
  {
   "cell_type": "markdown",
   "metadata": {
    "deletable": true,
    "editable": true
   },
   "source": [
    "## Building the Model\n",
    "\n",
    "### Building an MLP\n",
    "\n",
    "MLP or Multi-layer perceptron is a basic archetecture where where we multiply our representation with some matrix `W` and add some bias `b` and then apply some nonlinearity like `tanh` at each layer. Layers are fully connected to the next. As the network gets deeper, it's expressive power grows exponentially and so they can draw some pretty fancy decision boundaries. In this exercise, you'll build your own MLP, with 2 hidden layers (layers that aren't input or output).\n",
    "\n",
    "To make training more stable and efficient, we'll actually evaluate 128 tweets at a time, and take gradients with respect to the loss on the 128. We call this idea **training with mini-batches**.\n",
    "\n",
    "### Step 1: Representing Words\n",
    "\n",
    "In this model, we’ll be representing tweets as [bag-of-words](https://en.wikipedia.org/wiki/Bag-of-words_model) (BOW) representations. BOW representations are vectors where each element index represents a different word and its value represents the number of times this word appears in our sentence. This means that each sentence will be represented by a vector that is vocab_size long. Our output labels will be represented as a vector of size n_classes (3). We get this data with some utility functions:"
   ]
  },
  {
   "cell_type": "code",
   "execution_count": 7,
   "metadata": {
    "collapsed": false,
    "deletable": true,
    "editable": true
   },
   "outputs": [
    {
     "name": "stdout",
     "output_type": "stream",
     "text": [
      "Tweet: @VirginAmerica seriously would pay $30 a flight for seats that didn't have this playing.\n",
      "it's really the only bad thing about flying VA\n",
      "Label: [ 0.  0.  1.]\n",
      "Bag of Words Representation: [ 0.  1.  0. ...,  0.  0.  0.]\n"
     ]
    }
   ],
   "source": [
    "# load data\n",
    "X, y, index_to_word, sentences = utils.load_sentiment_data_bow()\n",
    "X_train, y_train, X_test, y_test = utils.split_data(X, y)\n",
    "vocab_size = X.shape[1]\n",
    "n_classes = y.shape[1]\n",
    "\n",
    "print(\"Tweet:\", sentences[5])\n",
    "print(\"Label:\", y[5])\n",
    "print(\"Bag of Words Representation:\", X_train[5])"
   ]
  },
  {
   "cell_type": "code",
   "execution_count": 8,
   "metadata": {
    "collapsed": false,
    "deletable": true,
    "editable": true
   },
   "outputs": [
    {
     "name": "stdout",
     "output_type": "stream",
     "text": [
      "X.shape: (14640, 1956)\n",
      "y.shape: (14640, 3)\n"
     ]
    }
   ],
   "source": [
    "# tnthuyen: print the shapes of X and y\n",
    "print('X.shape:', X.shape)\n",
    "print('y.shape:', y.shape)"
   ]
  },
  {
   "cell_type": "markdown",
   "metadata": {
    "deletable": true,
    "editable": true
   },
   "source": [
    "### Step 2: Making Placeholders"
   ]
  },
  {
   "cell_type": "markdown",
   "metadata": {
    "deletable": true,
    "editable": true
   },
   "source": [
    "So we have our data loaded as numpy arrays. But remember, TensorFlow graphs begin with generic placeholder inputs, not actual data. We feed the actual data in later once the full graph has been defined. We define our placeholders like this:"
   ]
  },
  {
   "cell_type": "code",
   "execution_count": 9,
   "metadata": {
    "collapsed": false,
    "deletable": true,
    "editable": true
   },
   "outputs": [],
   "source": [
    "data_placeholder = tf.placeholder(tf.float32, shape=(None, vocab_size), name='data_placeholder')\n",
    "\n",
    "'''tnthuyen: Make the labels placeholder.''';\n",
    "labels_placeholder = tf.placeholder(tf.float32, shape=(None, n_classes), name='labels_placeholder')"
   ]
  },
  {
   "cell_type": "markdown",
   "metadata": {
    "deletable": true,
    "editable": true
   },
   "source": [
    "#### Why Do We Pass in None?\n",
    "\n",
    "A note about ‘None’ and fluid-sized dimensions:\n",
    "\n",
    "You may notice that the first dimension of shape of data_placeholder is ‘None’. data_placeholder should have shape (num_tweets, vocab_size). However, we don’t know how many tweets we are going to be passing in at a time, num_tweets is unknown. Its possible that we only want to pass in 1 tweet at a time, or 30, or 1,000. Thankfully, TensorFlow allows us to specify placeholders with fluid-sized dimensions. We can use None to specify some fluid dimension of our shape. When our data eventually gets passed in as a numpy array, TensorFlow can figure out what the value of the fluid-size dimension should be.\n",
    "\n",
    "### Step 3: Define Network Parameters\n",
    "Let’s now define and initialize our network parameters.\n",
    "\n",
    "We'll our model parameters using tf.Variable. When you create a tf.Variable you pass a Tensor as its initial value to the Variable() constructor. A Tensor is a term for any N-dimensional matrix. There are a ton of different initial Tensor value functions you can use ([full list](https://www.tensorflow.org/api_docs/python/constant_op/)). All these functions take a list argument that determines their shape. Here we use tf.truncated_normal for our weights, and tf.zeros for our biases. Its important that the shape of these parameters are compatible. We’ll be matrix-multiplying the weights, so the last dimension of the previous weight matrix must equal the first dimension of the next weight matrix. Notice this pattern in the following tensor initialization code. Lastly, notice the size of the tensor for our last weights. We are predicting a vector of size n_classes so our network needs to end with n_classes nodes."
   ]
  },
  {
   "cell_type": "code",
   "execution_count": 10,
   "metadata": {
    "collapsed": false,
    "deletable": true,
    "editable": true
   },
   "outputs": [],
   "source": [
    "# Define Network Parameters\n",
    "\n",
    "# Here, we can define how many units will be in each hidden layer.\n",
    "n_hidden_units_h0 = 512 \n",
    "n_hidden_units_h1 = 256\n",
    "\n",
    "# Weights going from input to first hidden layer.\n",
    "# The first value passed into tf.Variable is initialization of the variable. \n",
    "# We initialize our weights to be sampled from a truncated normal, as this does something \n",
    "# called symmetry breaking and keeps the neural network from getting stuck at the start.\n",
    "# Since the weight matrix multiplies the previous layer to get inputs to the next layer,\n",
    "# its size is prev_layer_size x next_layer_size.\n",
    "h0_weights = tf.Variable(\n",
    "    tf.truncated_normal([vocab_size, n_hidden_units_h0]),\n",
    "    name='h0_weights')\n",
    "h0_biases = tf.Variable(\n",
    "    tf.zeros([n_hidden_units_h0]),\n",
    "    name='h0_biases')\n",
    "\n",
    "'''tnthuyen: Set up variables for the weights going into the second hidden layer.  \n",
    "You can check out the tf.Variable API here: https://www.tensorflow.org/api_docs/python/tf/Variable.\n",
    "''';\n",
    "h1_weights = tf.Variable(\n",
    "    tf.truncated_normal([n_hidden_units_h0, n_hidden_units_h1]),\n",
    "    name='h1_weights')\n",
    "h1_biases = tf.Variable(\n",
    "    tf.zeros([n_hidden_units_h1]),\n",
    "    name='h1_biases')\n",
    "\n",
    "# Weights going into the output layer.\n",
    "out_weights = tf.Variable(\n",
    "    tf.truncated_normal([n_hidden_units_h1, n_classes]),\n",
    "    name='out_weights')\n",
    "out_biases = tf.Variable(\n",
    "    tf.zeros([n_classes]),\n",
    "    name='out_biases')"
   ]
  },
  {
   "cell_type": "markdown",
   "metadata": {
    "deletable": true,
    "editable": true
   },
   "source": [
    "### Step 4: Build Computation Graph\n",
    "\n",
    "Now let’s define our computation graph.\n",
    "\n",
    "Our first operation in our graph is a tf.matmul of our data input and our first set of weights. tf.matmul performs a matrix multiplication of two tensors. This is why it is so important that the dimensions of data_placeholder and h0_weights align (dimension 1 of data_placeholder must equal dimension 0 of h0_weights). We then just add the h0_bias variable and perform a nonlinearity transformation, in this case we use tf.nn.relu (ReLU). We do this again for the next hidden layer, and the final output logits."
   ]
  },
  {
   "cell_type": "code",
   "execution_count": 11,
   "metadata": {
    "collapsed": false,
    "deletable": true,
    "editable": true
   },
   "outputs": [],
   "source": [
    "# Define Computation Graphs\n",
    "hidden0 = tf.nn.relu(tf.matmul(data_placeholder, h0_weights) + h0_biases)\n",
    "\n",
    "'''tnthuyen: write the computation to get the output of the second hidden layer.''';\n",
    "hidden1 = tf.nn.relu(tf.matmul(hidden0, h1_weights) + h1_biases)\n",
    "\n",
    "logits = tf.matmul(hidden1, out_weights) + out_biases"
   ]
  },
  {
   "cell_type": "markdown",
   "metadata": {
    "deletable": true,
    "editable": true
   },
   "source": [
    "### Step 5: Define a Loss Functions\n",
    "\n",
    "We have defined our network, but we need a way to train it. Training a network comes down to optimizing our network to minimize a loss function, or a measure how good we're doing.  Then, we can take the gradient with respect to that performance and move in the right direction.\n",
    "\n",
    "Since we are doing classification (pos vs neg), a common loss function to use is [cross entropy](https://colah.github.io/posts/2015-09-Visual-Information/):\n",
    "\n",
    "$$L( \\Theta ) = - \\sum_i  y_i'\\log{y_i}  $$\n",
    "\n",
    "where $y$ is our predicted probability distribution and $y'$ is the true distribution. We can access this function in tensorflow with `tf.nn.softmax_cross_entropy_with_logits`. \n",
    "\n",
    "Note that this loss is 0 if the prediction is correct.\n"
   ]
  },
  {
   "cell_type": "code",
   "execution_count": 12,
   "metadata": {
    "collapsed": false,
    "deletable": true,
    "editable": true
   },
   "outputs": [],
   "source": [
    "'''tnthuyen: Define the loss.  Use tf.nn.softmax_cross_entropy_with_logits.'''\n",
    "loss_each = tf.nn.softmax_cross_entropy_with_logits(labels=labels_placeholder, logits=logits)\n",
    "loss = tf.reduce_sum(loss_each, axis=0)\n",
    "learning_rate = 0.0002\n",
    "\n",
    "# Define the optimizer operation.  This is what will take the derivate of the loss \n",
    "# with respect to each of our parameters and try to minimize it.\n",
    "optimizer = tf.train.GradientDescentOptimizer(learning_rate).minimize(loss)\n",
    "prediction = tf.nn.softmax(logits)\n",
    "\n",
    "# Compute the accuracy\n",
    "prediction_is_correct = tf.equal(tf.argmax(logits, 1), tf.argmax(labels_placeholder, 1))\n",
    "accuracy = tf.reduce_mean(tf.cast(prediction_is_correct, tf.float32))"
   ]
  },
  {
   "cell_type": "markdown",
   "metadata": {
    "deletable": true,
    "editable": true
   },
   "source": [
    "#### Quick Conceptual Note:\n",
    "Nearly everything we do in TensorFlow is an operation with inputs and outputs. Our loss variable is an operation, that takes the output of the last layer of the net, which takes the output of the 2nd-to-last layer of the net, and so on. Our loss can be traced back to the input as a single function. This is our full computation graph. We pass this to our optimizer which is able to compute the gradient for this computation graph and adjust all the weights in it to minimize the loss.\n",
    "\n",
    "### Step 6: Training our Net\n",
    "We have our network, our loss function, and our optimizer ready, now we just need to pass in the data to train it. We pass in the data in chunks called mini-batches.  We do backpropogation at the end of a batch based on the loss that results from all the examples in the batch.  Using batches is just like Stochastic Gradient Descent, except instead of updating parameters after each example, we update them based on the gradient computed after *several* examples.\n",
    "\n",
    "To measure how well we're doing, we can't just look at how well our model performs on it's training data. It could be just memorizing the training data and perform terribly on data it hasn't seen before. To really measure how it performs in the wild, we need to present it with unseen data, and we can tune our hyper-parameters (like learning rate, num layers etc.) over this first unseen set, which we call our development (or validation) set. However, given that we optimized our hyper-parameters to the development set, to get a true fair assesment of the model, we test it with respect to a held-out test set at the end, and generally report those numbers.\n",
    "\n",
    "For now, we'll just use a training set and a testing set.  We'll train with the training set and evaluate on the test set to see how well our model performs."
   ]
  },
  {
   "cell_type": "code",
   "execution_count": 13,
   "metadata": {
    "collapsed": false,
    "deletable": true,
    "editable": true,
    "scrolled": true
   },
   "outputs": [
    {
     "name": "stdout",
     "output_type": "stream",
     "text": [
      "Minibatch train loss at step 0 : 43591.1\n",
      "Minibatch train accuracy: 36.719%\n",
      "Test loss: 2635633.750\n",
      "Test accuracy: 71.209%\n",
      "Minibatch train loss at step 100 : 1366.26\n",
      "Minibatch train accuracy: 67.969%\n",
      "Test loss: 50231.020\n",
      "Test accuracy: 63.661%\n",
      "Minibatch train loss at step 200 : 490.102\n",
      "Minibatch train accuracy: 61.719%\n",
      "Test loss: 26183.801\n",
      "Test accuracy: 68.989%\n",
      "Minibatch train loss at step 300 : 535.292\n",
      "Minibatch train accuracy: 65.625%\n",
      "Test loss: 17771.383\n",
      "Test accuracy: 61.714%\n",
      "Minibatch train loss at step 400 : 652.44\n",
      "Minibatch train accuracy: 45.312%\n",
      "Test loss: 14024.970\n",
      "Test accuracy: 62.193%\n",
      "Minibatch train loss at step 500 : 359.938\n",
      "Minibatch train accuracy: 60.156%\n",
      "Test loss: 12389.570\n",
      "Test accuracy: 55.328%\n",
      "Minibatch train loss at step 600 : 291.9\n",
      "Minibatch train accuracy: 62.500%\n",
      "Test loss: 9566.291\n",
      "Test accuracy: 64.276%\n",
      "Minibatch train loss at step 700 : 333.397\n",
      "Minibatch train accuracy: 50.781%\n",
      "Test loss: 9914.164\n",
      "Test accuracy: 56.831%\n",
      "Minibatch train loss at step 800 : 193.447\n",
      "Minibatch train accuracy: 80.469%\n",
      "Test loss: 8071.979\n",
      "Test accuracy: 63.832%\n",
      "Minibatch train loss at step 900 : 148.065\n",
      "Minibatch train accuracy: 75.000%\n",
      "Test loss: 7537.051\n",
      "Test accuracy: 66.769%\n",
      "Minibatch train loss at step 1000 : 204.687\n",
      "Minibatch train accuracy: 57.812%\n",
      "Test loss: 7480.792\n",
      "Test accuracy: 67.418%\n",
      "Minibatch train loss at step 1100 : 162.431\n",
      "Minibatch train accuracy: 71.875%\n",
      "Test loss: 6979.165\n",
      "Test accuracy: 67.077%\n",
      "Minibatch train loss at step 1200 : 124.75\n",
      "Minibatch train accuracy: 69.531%\n",
      "Test loss: 6901.607\n",
      "Test accuracy: 67.281%\n",
      "Minibatch train loss at step 1300 : 146.493\n",
      "Minibatch train accuracy: 58.594%\n",
      "Test loss: 6532.031\n",
      "Test accuracy: 66.769%\n",
      "Minibatch train loss at step 1400 : 163.77\n",
      "Minibatch train accuracy: 57.812%\n",
      "Test loss: 6854.941\n",
      "Test accuracy: 60.314%\n",
      "Minibatch train loss at step 1500 : 106.638\n",
      "Minibatch train accuracy: 67.188%\n",
      "Test loss: 7286.976\n",
      "Test accuracy: 59.699%\n",
      "Minibatch train loss at step 1600 : 132.152\n",
      "Minibatch train accuracy: 61.719%\n",
      "Test loss: 6342.223\n",
      "Test accuracy: 65.710%\n",
      "Minibatch train loss at step 1700 : 114.888\n",
      "Minibatch train accuracy: 64.062%\n",
      "Test loss: 6185.129\n",
      "Test accuracy: 69.023%\n",
      "Minibatch train loss at step 1800 : 63.4528\n",
      "Minibatch train accuracy: 85.938%\n",
      "Test loss: 6226.178\n",
      "Test accuracy: 69.843%\n",
      "Minibatch train loss at step 1900 : 113.976\n",
      "Minibatch train accuracy: 76.562%\n",
      "Test loss: 6106.062\n",
      "Test accuracy: 66.872%\n",
      "Minibatch train loss at step 2000 : 109.727\n",
      "Minibatch train accuracy: 78.906%\n",
      "Test loss: 6050.426\n",
      "Test accuracy: 66.189%\n",
      "Minibatch train loss at step 2100 : 105.489\n",
      "Minibatch train accuracy: 72.656%\n",
      "Test loss: 5947.180\n",
      "Test accuracy: 66.359%\n",
      "Minibatch train loss at step 2200 : 122.291\n",
      "Minibatch train accuracy: 60.156%\n",
      "Test loss: 5905.012\n",
      "Test accuracy: 66.359%\n",
      "Minibatch train loss at step 2300 : 122.081\n",
      "Minibatch train accuracy: 60.938%\n",
      "Test loss: 6559.824\n",
      "Test accuracy: 60.041%\n",
      "Minibatch train loss at step 2400 : 138.664\n",
      "Minibatch train accuracy: 54.688%\n",
      "Test loss: 6738.159\n",
      "Test accuracy: 57.001%\n",
      "Minibatch train loss at step 2500 : 101.997\n",
      "Minibatch train accuracy: 68.750%\n",
      "Test loss: 5891.805\n",
      "Test accuracy: 65.710%\n",
      "Minibatch train loss at step 2600 : 135.145\n",
      "Minibatch train accuracy: 57.031%\n",
      "Test loss: 6294.949\n",
      "Test accuracy: 60.075%\n",
      "Minibatch train loss at step 2700 : 58.1826\n",
      "Minibatch train accuracy: 83.594%\n",
      "Test loss: 5745.874\n",
      "Test accuracy: 67.111%\n",
      "Minibatch train loss at step 2800 : 68.5834\n",
      "Minibatch train accuracy: 78.906%\n",
      "Test loss: 5751.298\n",
      "Test accuracy: 68.169%\n",
      "Minibatch train loss at step 2900 : 134.944\n",
      "Minibatch train accuracy: 62.500%\n",
      "Test loss: 5801.504\n",
      "Test accuracy: 65.608%\n"
     ]
    }
   ],
   "source": [
    "num_steps = 3000\n",
    "batch_size = 128\n",
    "\n",
    "with tf.Session() as session:\n",
    "    \n",
    "    # this operation initializes all the variables we made earlier.\n",
    "    tf.global_variables_initializer().run()\n",
    "\n",
    "    for step in range(num_steps):\n",
    "        # Generate a minibatch.\n",
    "        offset = (step * batch_size) % (X_train.shape[0] - batch_size)\n",
    "        batch_data = X_train[offset:(offset + batch_size), :]\n",
    "        batch_labels = y_train[offset:(offset + batch_size), :]\n",
    "        \n",
    "        # Create a dictionary to pass in the batch data.\n",
    "        feed_dict_train = {data_placeholder: batch_data, labels_placeholder : batch_labels}\n",
    "        \n",
    "        # Run the optimizer, the loss, the predictions.\n",
    "        # We can run multiple things at once and get their outputs.\n",
    "        _, loss_value_train, predictions_value_train, accuracy_value_train = session.run(\n",
    "          [optimizer, loss, prediction, accuracy], feed_dict=feed_dict_train)\n",
    "        \n",
    "        # Print stuff every once in a while.\n",
    "        if (step % 100 == 0):\n",
    "            print(\"Minibatch train loss at step\", step, \":\", loss_value_train)\n",
    "            print(\"Minibatch train accuracy: %.3f%%\" % (accuracy_value_train*100))\n",
    "            feed_dict_test = {data_placeholder: X_test, labels_placeholder: y_test}\n",
    "            loss_value_test, predictions_value_test, accuracy_value_test = session.run(\n",
    "                [loss, prediction, accuracy], feed_dict=feed_dict_test)\n",
    "            \n",
    "            print(\"Test loss: %.3f\" % loss_value_test)\n",
    "            print(\"Test accuracy: %.3f%%\" % (accuracy_value_test*100))"
   ]
  },
  {
   "cell_type": "markdown",
   "metadata": {
    "deletable": true,
    "editable": true
   },
   "source": [
    "Running this code, you’ll see the network train and output its performance as it learns. I was able to get it to 65.5% accuracy. This is just OK, considering random guessing gets you 33.3% accuracy. In the next tutorial, you'll learn some ways to improve upon this.\n",
    "\n",
    "## Concluding Thoughts\n",
    "This was a brief introduction into TensorFlow. There is so, so much more to learn and explore, but hopefully this has given you some base knowledge to expand upon. As an additional exercise, you can see what you can do with this code to improve the performance. Ideas include: randomizing mini-batches, making the network deeper, using word embeddings (see below) rather than bag-of-words, trying different optimizers (like Adam), different weight initializations. We’ll explore some of these tomorrow.\n",
    "\n",
    "#### More on Word Embeddings\n",
    "\n",
    "In this lab we used Bag-of-Words to represent a tweet.  Word Embeddings are a more meaningful representation.  The basic idea is we represent a word with a vector $\\phi$ by the context the word appears in. We do this by training a neural network to predict the context of words across a large training set. The weights of that neural network can then be thought of as a dense and useful representation that captures context. This is useful because now our representations of words captures actual semantic similarity.\n",
    "\n",
    "Word Embeddings capture all kinds of useful semantic relationships. For example, one cool emergent property is $ \\phi(king) - \\phi(queen) = \\phi(man) - \\phi(woman)$. To learn more about the magic behind word embeddings we recommend Chris Olah's [blog post](https://colah.github.io/posts/2014-07-NLP-RNNs-Representations/). A common tool for generating Word Embeddings is word2vec."
   ]
  },
  {
   "cell_type": "code",
   "execution_count": null,
   "metadata": {
    "collapsed": true,
    "deletable": true,
    "editable": true
   },
   "outputs": [],
   "source": []
  },
  {
   "cell_type": "code",
   "execution_count": null,
   "metadata": {
    "collapsed": true,
    "deletable": true,
    "editable": true
   },
   "outputs": [],
   "source": []
  },
  {
   "cell_type": "code",
   "execution_count": null,
   "metadata": {
    "collapsed": true,
    "deletable": true,
    "editable": true
   },
   "outputs": [],
   "source": []
  },
  {
   "cell_type": "code",
   "execution_count": null,
   "metadata": {
    "collapsed": true,
    "deletable": true,
    "editable": true
   },
   "outputs": [],
   "source": []
  },
  {
   "cell_type": "markdown",
   "metadata": {
    "deletable": true,
    "editable": true
   },
   "source": [
    "# Solutions"
   ]
  },
  {
   "cell_type": "code",
   "execution_count": 18,
   "metadata": {
    "collapsed": false,
    "deletable": true,
    "editable": true
   },
   "outputs": [
    {
     "name": "stdout",
     "output_type": "stream",
     "text": [
      "[45.0]\n",
      "[[ 0.7310586]]\n"
     ]
    },
    {
     "data": {
      "image/png": "[encoded data removed]",
      "text/plain": [
       "<matplotlib.figure.Figure at 0x113dede48>"
      ]
     },
     "metadata": {},
     "output_type": "display_data"
    },
    {
     "data": {
      "image/png": "[encoded data removed]",
      "text/plain": [
       "<matplotlib.figure.Figure at 0x113e00eb8>"
      ]
     },
     "metadata": {},
     "output_type": "display_data"
    },
    {
     "name": "stdout",
     "output_type": "stream",
     "text": [
      "predictions [array([[ 0.59868765]], dtype=float32), array([[ 0.59145898]], dtype=float32), array([[ 0.42800382]], dtype=float32), array([[ 0.48750263]], dtype=float32), array([[ 0.49500021]], dtype=float32), array([[ 0.58419055]], dtype=float32), array([[ 0.56954622]], dtype=float32), array([[ 0.6341356]], dtype=float32), array([[ 0.57688522]], dtype=float32), array([[ 0.50999868]], dtype=float32), array([[ 0.45016602]], dtype=float32)]\n",
      "Tweet: @VirginAmerica seriously would pay $30 a flight for seats that didn't have this playing.\n",
      "it's really the only bad thing about flying VA\n",
      "Label: [ 0.  0.  1.]\n",
      "Bag of Words Representation: [ 0.  1.  0. ...,  0.  0.  0.]\n",
      "Minibatch train loss at step 0 : 747.938\n",
      "Minibatch train accuracy: 38.281%\n",
      "Test loss: 428.377\n",
      "Test accuracy: 39.173%\n",
      "Minibatch train loss at step 100 : 203.875\n",
      "Minibatch train accuracy: 56.250%\n",
      "Test loss: 194.404\n",
      "Test accuracy: 53.723%\n",
      "Minibatch train loss at step 200 : 154.56\n",
      "Minibatch train accuracy: 60.938%\n",
      "Test loss: 168.769\n",
      "Test accuracy: 56.284%\n",
      "Minibatch train loss at step 300 : 176.648\n",
      "Minibatch train accuracy: 52.344%\n",
      "Test loss: 156.858\n",
      "Test accuracy: 56.557%\n",
      "Minibatch train loss at step 400 : 209.629\n",
      "Minibatch train accuracy: 45.312%\n",
      "Test loss: 156.177\n",
      "Test accuracy: 53.347%\n",
      "Minibatch train loss at step 500 : 193.017\n",
      "Minibatch train accuracy: 43.750%\n",
      "Test loss: 160.114\n",
      "Test accuracy: 50.615%\n",
      "Minibatch train loss at step 600 : 141.856\n",
      "Minibatch train accuracy: 50.781%\n",
      "Test loss: 147.797\n",
      "Test accuracy: 52.288%\n",
      "Minibatch train loss at step 700 : 187.609\n",
      "Minibatch train accuracy: 45.312%\n",
      "Test loss: 144.661\n",
      "Test accuracy: 52.186%\n",
      "Minibatch train loss at step 800 : 97.5042\n",
      "Minibatch train accuracy: 64.062%\n",
      "Test loss: 124.162\n",
      "Test accuracy: 57.070%\n",
      "Minibatch train loss at step 900 : 123.54\n",
      "Minibatch train accuracy: 59.375%\n",
      "Test loss: 116.225\n",
      "Test accuracy: 60.007%\n",
      "Minibatch train loss at step 1000 : 102.443\n",
      "Minibatch train accuracy: 59.375%\n",
      "Test loss: 114.610\n",
      "Test accuracy: 58.197%\n",
      "Minibatch train loss at step 1100 : 102.203\n",
      "Minibatch train accuracy: 57.812%\n",
      "Test loss: 107.062\n",
      "Test accuracy: 62.773%\n",
      "Minibatch train loss at step 1200 : 94.8555\n",
      "Minibatch train accuracy: 60.938%\n",
      "Test loss: 103.232\n",
      "Test accuracy: 62.124%\n",
      "Minibatch train loss at step 1300 : 118.438\n",
      "Minibatch train accuracy: 60.938%\n",
      "Test loss: 100.692\n",
      "Test accuracy: 61.066%\n",
      "Minibatch train loss at step 1400 : 131.168\n",
      "Minibatch train accuracy: 55.469%\n",
      "Test loss: 100.388\n",
      "Test accuracy: 59.255%\n",
      "Minibatch train loss at step 1500 : 87.0774\n",
      "Minibatch train accuracy: 58.594%\n",
      "Test loss: 98.886\n",
      "Test accuracy: 58.607%\n",
      "Minibatch train loss at step 1600 : 90.3377\n",
      "Minibatch train accuracy: 53.125%\n",
      "Test loss: 96.823\n",
      "Test accuracy: 58.128%\n",
      "Minibatch train loss at step 1700 : 69.4487\n",
      "Minibatch train accuracy: 63.281%\n",
      "Test loss: 98.744\n",
      "Test accuracy: 57.172%\n",
      "Minibatch train loss at step 1800 : 50.5469\n",
      "Minibatch train accuracy: 77.344%\n",
      "Test loss: 88.980\n",
      "Test accuracy: 62.363%\n",
      "Minibatch train loss at step 1900 : 58.5016\n",
      "Minibatch train accuracy: 67.188%\n",
      "Test loss: 87.717\n",
      "Test accuracy: 62.022%\n",
      "Minibatch train loss at step 2000 : 73.5649\n",
      "Minibatch train accuracy: 72.656%\n",
      "Test loss: 85.737\n",
      "Test accuracy: 63.627%\n",
      "Minibatch train loss at step 2100 : 69.1693\n",
      "Minibatch train accuracy: 67.188%\n",
      "Test loss: 83.595\n",
      "Test accuracy: 66.291%\n",
      "Minibatch train loss at step 2200 : 105.544\n",
      "Minibatch train accuracy: 51.562%\n",
      "Test loss: 81.096\n",
      "Test accuracy: 63.593%\n",
      "Minibatch train loss at step 2300 : 99.5283\n",
      "Minibatch train accuracy: 53.906%\n",
      "Test loss: 80.055\n",
      "Test accuracy: 62.466%\n",
      "Minibatch train loss at step 2400 : 112.071\n",
      "Minibatch train accuracy: 50.781%\n",
      "Test loss: 81.685\n",
      "Test accuracy: 59.802%\n",
      "Minibatch train loss at step 2500 : 68.9163\n",
      "Minibatch train accuracy: 59.375%\n",
      "Test loss: 81.028\n",
      "Test accuracy: 59.255%\n",
      "Minibatch train loss at step 2600 : 97.9456\n",
      "Minibatch train accuracy: 52.344%\n",
      "Test loss: 80.502\n",
      "Test accuracy: 59.085%\n",
      "Minibatch train loss at step 2700 : 48.1621\n",
      "Minibatch train accuracy: 72.656%\n",
      "Test loss: 75.949\n",
      "Test accuracy: 61.168%\n",
      "Minibatch train loss at step 2800 : 51.3271\n",
      "Minibatch train accuracy: 68.750%\n",
      "Test loss: 73.535\n",
      "Test accuracy: 62.261%\n",
      "Minibatch train loss at step 2900 : 51.9236\n",
      "Minibatch train accuracy: 58.594%\n",
      "Test loss: 72.515\n",
      "Test accuracy: 62.363%\n"
     ]
    }
   ],
   "source": [
    "a = tf.placeholder(tf.float32)\n",
    "b = tf.placeholder(tf.float32)\n",
    "c = tf.add(a, b)\n",
    "d = tf.subtract(b, 1)\n",
    "e = tf.multiply(c, d)\n",
    "\n",
    "with tf.Session() as session:\n",
    "    a_data, b_data = 3.0, 6.0\n",
    "    feed_dict = {a: a_data, b: b_data}\n",
    "    output = session.run([e], feed_dict=feed_dict)\n",
    "    print(output) # 45.0\n",
    "    \n",
    "n_input_nodes = 2\n",
    "n_output_nodes = 1\n",
    "x = tf.placeholder(tf.float32, (None, n_input_nodes))\n",
    "W = tf.Variable(tf.ones((n_input_nodes, n_output_nodes)), dtype=tf.float32)\n",
    "b = tf.Variable(tf.zeros(n_output_nodes), dtype=tf.float32)\n",
    "\n",
    "'''TODO: Define the operation for z (use tf.matmul to multiply W and x).'''\n",
    "z = tf.matmul(x, W) + b\n",
    "\n",
    "'''TODO: Define the operation for out (use tf.sigmoid).'''\n",
    "out = tf.sigmoid(z)\n",
    "\n",
    "\n",
    "test_input = [[0.5, 0.5]]\n",
    "with tf.Session() as session:\n",
    "    tf.global_variables_initializer().run(session=session)\n",
    "    feed_dict = {x: test_input}\n",
    "    output = session.run([out], feed_dict=feed_dict)\n",
    "    print(output[0]) # This should output 0.73105. If not, double-check your code above\n",
    "\n",
    "    \n",
    "    \n",
    "    \n",
    "'''TODO: manually optimize weight_values and bias_value to classify points'''\n",
    "\n",
    "# Modify weight_values, bias_value in the above code to adjust the decision boundary\n",
    "# See if you can classify all the points correctly (all markers green)\n",
    "\n",
    "weight_values = np.array([[-0.1], [0.2]]) # TODO change values and re-run\n",
    "bias_value = np.array([[0.5]]) #TODO change values and re-run\n",
    "\n",
    "# A pretty good boundary is made with:\n",
    "weight_values = np.array([[0.03], [0.12]])\n",
    "bias_value = np.array([[-0.5]])\n",
    "\n",
    "x = tf.placeholder(tf.float32, (None, 2), name='x')\n",
    "W = tf.Variable(weight_values, name='W', dtype=tf.float32)\n",
    "b = tf.Variable(bias_value, name='b', dtype=tf.float32)\n",
    "z = tf.matmul(x, W) + b\n",
    "out = tf.sigmoid(z)\n",
    "\n",
    "data = np.array([[2, 7], [1, 7], [3, 1], [3, 3], [4, 3], [4, 6], [6, 5], [7, 7], [7, 5], [2, 4], [2, 2]])\n",
    "y = np.array([1, 1, 0, 0, 0, 1, 1, 1, 1, 0, 0])\n",
    "with tf.Session() as session:\n",
    "    tf.global_variables_initializer().run(session=session)\n",
    "    utils.classify_and_plot(data, y, x, out, session)\n",
    "    \n",
    "    \n",
    "    \n",
    "# load data\n",
    "X, y, index_to_word, sentences = utils.load_sentiment_data_bow()\n",
    "X_train, y_train, X_test, y_test = utils.split_data(X, y)\n",
    "vocab_size = X.shape[1]\n",
    "n_classes = y.shape[1]\n",
    "\n",
    "print(\"Tweet:\", sentences[5])\n",
    "print(\"Label:\", y[5])\n",
    "print(\"Bag of Words Representation:\", X_train[5])\n",
    "\n",
    "data_placeholder = tf.placeholder(tf.float32, shape=(None, vocab_size), name='data_placeholder')\n",
    "\n",
    "'''TODO: Make the labels placeholder.''';\n",
    "labels_placeholder = tf.placeholder(tf.float32, shape=(None, n_classes), name='labels_placeholder')\n",
    "\n",
    "\n",
    "# Define Network Parameters\n",
    "\n",
    "# Here, we can define how many units will be in each hidden layer.\n",
    "n_hidden_units_h0 = 512 \n",
    "n_hidden_units_h1 = 256\n",
    "\n",
    "# Weights going from input to first hidden layer.\n",
    "# The first value passed into tf.Variable is initialization of the variable. \n",
    "# We initialize our weights to be sampled from a truncated normal, as this does something \n",
    "# called symmetry breaking and keeps the neural network from getting stuck at the start.\n",
    "# Since the weight matrix multiplies the previous layer to get inputs to the next layer,\n",
    "# its size is prev_layer_size x next_layer_size.\n",
    "h0_weights = tf.Variable(\n",
    "    tf.truncated_normal([vocab_size, n_hidden_units_h0]),\n",
    "    name='h0_weights')\n",
    "h0_biases = tf.Variable(tf.zeros([n_hidden_units_h0]),\n",
    "                     name='h0_biases')\n",
    "\n",
    "'''TODO: Set up variables for the weights going into the second hidden layer.  \n",
    "You can check out the tf.Variable API here: https://www.tensorflow.org/api_docs/python/tf/Variable.\n",
    "''';\n",
    "h1_weights = tf.Variable(\n",
    "    tf.truncated_normal([n_hidden_units_h0, n_hidden_units_h1]),\n",
    "    name='h1_weights')\n",
    "h1_biases = tf.Variable(tf.zeros([n_hidden_units_h1]),\n",
    "                     name='h1_biases')\n",
    "\n",
    "# Weights going into the output layer.\n",
    "out_weights = tf.Variable(\n",
    "    tf.truncated_normal([n_hidden_units_h1, n_classes]),\n",
    "    name='out_weights')\n",
    "out_biases = tf.Variable(tf.zeros([n_classes]),\n",
    "                     name='out_biases')\n",
    "\n",
    "# Define Computation Graphs\n",
    "hidden0 = tf.nn.relu(tf.matmul(data_placeholder, h0_weights) + h0_biases)\n",
    "\n",
    "'''TODO: write the computation to get the output of the second hidden layer.''';\n",
    "hidden1 = tf.nn.relu(tf.matmul(hidden0, h1_weights) + h1_biases)\n",
    "\n",
    "logits = tf.matmul(hidden1, out_weights) + out_biases\n",
    "\n",
    "'''TODO: Define the loss.  Use tf.nn.softmax_cross_entropy_with_logits.'''\n",
    "loss = tf.reduce_mean(\n",
    "    tf.nn.softmax_cross_entropy_with_logits(logits=logits, labels=labels_placeholder))\n",
    "learning_rate = 0.0002\n",
    "\n",
    "# Define the optimizer operation.  This is what will take the derivate of the loss \n",
    "# with respect to each of our parameters and try to minimize it.\n",
    "optimizer = tf.train.GradientDescentOptimizer(learning_rate).minimize(loss)\n",
    "prediction = tf.nn.softmax(logits)\n",
    "\n",
    "# Compute the accuracy\n",
    "prediction_is_correct = tf.equal(tf.argmax(logits, 1), tf.argmax(labels_placeholder, 1))\n",
    "accuracy = tf.reduce_mean(tf.cast(prediction_is_correct, tf.float32))\n",
    "\n",
    "num_steps = 3000\n",
    "batch_size = 128\n",
    "\n",
    "with tf.Session() as session:\n",
    "    \n",
    "    # this operation initializes all the variables we made earlier.\n",
    "    tf.global_variables_initializer().run()\n",
    "\n",
    "    for step in range(num_steps):\n",
    "        # Generate a minibatch.\n",
    "        offset = (step * batch_size) % (X_train.shape[0] - batch_size)\n",
    "        batch_data = X_train[offset:(offset + batch_size), :]\n",
    "        batch_labels = y_train[offset:(offset + batch_size), :]\n",
    "        \n",
    "        # Create a dictionary to pass in the batch data.\n",
    "        feed_dict_train = {data_placeholder: batch_data, labels_placeholder : batch_labels}\n",
    "        \n",
    "        # Run the optimizer, the loss, the predictions.\n",
    "        # We can run multiple things at once and get their outputs.\n",
    "        _, loss_value_train, predictions_value_train, accuracy_value_train = session.run(\n",
    "          [optimizer, loss, prediction, accuracy], feed_dict=feed_dict_train)\n",
    "        \n",
    "        # Print stuff every once in a while.\n",
    "        if (step % 100 == 0):\n",
    "            print(\"Minibatch train loss at step\", step, \":\", loss_value_train)\n",
    "            print(\"Minibatch train accuracy: %.3f%%\" % (accuracy_value_train*100))\n",
    "            feed_dict_test = {data_placeholder: X_test, labels_placeholder: y_test}\n",
    "            loss_value_test, predictions_value_test, accuracy_value_test = session.run(\n",
    "                [loss, prediction, accuracy], feed_dict=feed_dict_test)\n",
    "            print(\"Test loss: %.3f\" % loss_value_test)\n",
    "            print(\"Test accuracy: %.3f%%\" % (accuracy_value_test*100))"
   ]
  },
  {
   "cell_type": "code",
   "execution_count": null,
   "metadata": {
    "collapsed": true,
    "deletable": true,
    "editable": true
   },
   "outputs": [],
   "source": []
  }
 ],
 "metadata": {
  "anaconda-cloud": {},
  "kernelspec": {
   "display_name": "Python 3",
   "language": "python",
   "name": "python3"
  },
  "language_info": {
   "codemirror_mode": {
    "name": "ipython",
    "version": 3
   },
   "file_extension": ".py",
   "mimetype": "text/x-python",
   "name": "python",
   "nbconvert_exporter": "python",
   "pygments_lexer": "ipython3",
   "version": "3.6.0"
  },
  "name": "_merged"
 },
 "nbformat": 4,
 "nbformat_minor": 0
}
